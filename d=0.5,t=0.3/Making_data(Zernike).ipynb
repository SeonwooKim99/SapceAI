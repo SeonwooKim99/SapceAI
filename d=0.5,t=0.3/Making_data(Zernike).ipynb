{
 "cells": [
  {
   "cell_type": "code",
   "execution_count": 22,
   "metadata": {},
   "outputs": [
    {
     "name": "stdout",
     "output_type": "stream",
     "text": [
      "Found OpticStudio at:   %sc:\\program files\\ansys zemax opticstudio 2023 r2.00\n",
      "Connected to OpticStudio\n",
      "Serial #:  A1154551\n"
     ]
    }
   ],
   "source": [
    "import clr, os, winreg\n",
    "from itertools import islice\n",
    "\n",
    "# This boilerplate requires the 'pythonnet' module.\n",
    "# The following instructions are for installing the 'pythonnet' module via pip:\n",
    "#    1. Ensure you are running a Python version compatible with PythonNET. Check the article \"ZOS-API using Python.NET\" or\n",
    "#    \"Getting started with Python\" in our knowledge base for more details.\n",
    "#    2. Install 'pythonnet' from pip via a command prompt (type 'cmd' from the start menu or press Windows + R and type 'cmd' then enter)\n",
    "#\n",
    "#        python -m pip install pythonnet\n",
    "\n",
    "# determine the Zemax working directory\n",
    "aKey = winreg.OpenKey(winreg.ConnectRegistry(None, winreg.HKEY_CURRENT_USER), r\"Software\\Zemax\", 0, winreg.KEY_READ)\n",
    "zemaxData = winreg.QueryValueEx(aKey, 'ZemaxRoot')\n",
    "NetHelper = os.path.join(os.sep, zemaxData[0], r'ZOS-API\\Libraries\\ZOSAPI_NetHelper.dll')\n",
    "winreg.CloseKey(aKey)\n",
    "\n",
    "# add the NetHelper DLL for locating the OpticStudio install folder\n",
    "clr.AddReference(NetHelper)\n",
    "import ZOSAPI_NetHelper\n",
    "\n",
    "pathToInstall = ''\n",
    "# uncomment the following line to use a specific instance of the ZOS-API assemblies\n",
    "#pathToInstall = r'C:\\C:\\Program Files\\Zemax OpticStudio'\n",
    "\n",
    "# connect to OpticStudio\n",
    "success = ZOSAPI_NetHelper.ZOSAPI_Initializer.Initialize(pathToInstall);\n",
    "\n",
    "zemaxDir = ''\n",
    "if success:\n",
    "    zemaxDir = ZOSAPI_NetHelper.ZOSAPI_Initializer.GetZemaxDirectory();\n",
    "    print('Found OpticStudio at:   %s' + zemaxDir);\n",
    "else:\n",
    "    raise Exception('Cannot find OpticStudio')\n",
    "\n",
    "# load the ZOS-API assemblies\n",
    "clr.AddReference(os.path.join(os.sep, zemaxDir, r'ZOSAPI.dll'))\n",
    "clr.AddReference(os.path.join(os.sep, zemaxDir, r'ZOSAPI_Interfaces.dll'))\n",
    "import ZOSAPI\n",
    "\n",
    "TheConnection = ZOSAPI.ZOSAPI_Connection()\n",
    "if TheConnection is None:\n",
    "    raise Exception(\"Unable to intialize NET connection to ZOSAPI\")\n",
    "\n",
    "TheApplication = TheConnection.ConnectAsExtension(0)\n",
    "if TheApplication is None:\n",
    "    raise Exception(\"Unable to acquire ZOSAPI application\")\n",
    "\n",
    "if TheApplication.IsValidLicenseForAPI == False:\n",
    "    raise Exception(\"License is not valid for ZOSAPI use.  Make sure you have enabled 'Programming > Interactive Extension' from the OpticStudio GUI.\")\n",
    "\n",
    "TheSystem = TheApplication.PrimarySystem\n",
    "if TheSystem is None:\n",
    "    raise Exception(\"Unable to acquire Primary system\")\n",
    "\n",
    "def reshape(data, x, y, transpose = False):\n",
    "    \"\"\"Converts a System.Double[,] to a 2D list for plotting or post processing\n",
    "    \n",
    "    Parameters\n",
    "    ----------\n",
    "    data      : System.Double[,] data directly from ZOS-API \n",
    "    x         : x width of new 2D list [use var.GetLength(0) for dimension]\n",
    "    y         : y width of new 2D list [use var.GetLength(1) for dimension]\n",
    "    transpose : transposes data; needed for some multi-dimensional line series data\n",
    "    \n",
    "    Returns\n",
    "    -------\n",
    "    res       : 2D list; can be directly used with Matplotlib or converted to\n",
    "                a numpy array using numpy.asarray(res)\n",
    "    \"\"\"\n",
    "    if type(data) is not list:\n",
    "        data = list(data)\n",
    "    var_lst = [y] * x;\n",
    "    it = iter(data)\n",
    "    res = [list(islice(it, i)) for i in var_lst]\n",
    "    if transpose:\n",
    "        return self.transpose(res);\n",
    "    return res\n",
    "    \n",
    "def transpose(data):\n",
    "    \"\"\"Transposes a 2D list (Python3.x or greater).  \n",
    "    \n",
    "    Useful for converting mutli-dimensional line series (i.e. FFT PSF)\n",
    "    \n",
    "    Parameters\n",
    "    ----------\n",
    "    data      : Python native list (if using System.Data[,] object reshape first)    \n",
    "    \n",
    "    Returns\n",
    "    -------\n",
    "    res       : transposed 2D list\n",
    "    \"\"\"\n",
    "    if type(data) is not list:\n",
    "        data = list(data)\n",
    "    return list(map(list, zip(*data)))\n",
    "\n",
    "print('Connected to OpticStudio')\n",
    "\n",
    "# The connection should now be ready to use.  For example:\n",
    "print('Serial #: ', TheApplication.SerialCode)\n",
    "\n",
    "# Insert Code Here\n",
    "\n",
    "import numpy as np\n",
    "import matplotlib.pyplot as plt\n",
    "import random\n",
    "import shutil\n",
    "from enum import Enum\n"
   ]
  },
  {
   "cell_type": "code",
   "execution_count": 6,
   "metadata": {},
   "outputs": [
    {
     "data": {
      "text/plain": [
       "[0.092, 0.198, 0.333, -0.023, -0.125, -0.067]"
      ]
     },
     "execution_count": 6,
     "metadata": {},
     "output_type": "execute_result"
    }
   ],
   "source": [
    "path = 'D:/AI_Alignment/data/data1/error.txt'\n",
    "with open(path,'r',encoding='utf-8') as file :\n",
    "    lines = file.readlines()\n",
    "    \n",
    "error = []\n",
    "for i in range(len(lines)) :\n",
    "    a = lines[i].strip()\n",
    "    error.append(float(a))\n",
    "    \n",
    "error"
   ]
  },
  {
   "cell_type": "code",
   "execution_count": 7,
   "metadata": {},
   "outputs": [],
   "source": [
    "surf11 = TheSystem.LDE.GetSurfaceAt(11)\n",
    "surf11.Thickness = error[2]\n",
    "surf10 = TheSystem.LDE.GetSurfaceAt(10)\n",
    "surf10.GetCellAt(12).DoubleValue = error[0]\n",
    "surf10.GetCellAt(13).DoubleValue = error[1]\n",
    "surf10.GetCellAt(14).DoubleValue = error[3]\n",
    "surf10.GetCellAt(15).DoubleValue = error[4]\n",
    "surf10.GetCellAt(16).DoubleValue = error[5]"
   ]
  },
  {
   "cell_type": "code",
   "execution_count": 14,
   "metadata": {},
   "outputs": [
    {
     "data": {
      "text/plain": [
       "True"
      ]
     },
     "execution_count": 14,
     "metadata": {},
     "output_type": "execute_result"
    }
   ],
   "source": [
    "zern = TheSystem.Analyses.New_ZernikeFringeCoefficients()\n",
    "zern_setting = zern.GetSettings()\n",
    "#zern_setting = ZOSAPI.Analysis.Settings.IAS_ZernikeFringeCoefficients(zern_setting)\n",
    "#zern_setting.Field.SetFieldNumber(2)\n",
    "zern.ApplyAndWaitForCompletion()\n",
    "zern_results = zern.GetResults()\n",
    "zern_results.GetTextFile('D:/AI_Alignment/zernike.txt') #Result file"
   ]
  },
  {
   "cell_type": "code",
   "execution_count": 25,
   "metadata": {},
   "outputs": [
    {
     "ename": "RemotingException",
     "evalue": "IPC 포트에 쓰지 못했습니다. 파이프가 닫히는 중입니다.\r\n\r\n\r\nServer stack trace: \r\n   위치: System.Runtime.Remoting.Channels.Ipc.IpcPort.Write(Byte[] data, Int32 offset, Int32 size)\r\n   위치: System.Runtime.Remoting.Channels.ChunkedMemoryStream.WriteTo(Stream stream)\r\n   위치: System.Runtime.Remoting.Channels.Ipc.IpcClientHandler.SendRequest(IMessage msg, ITransportHeaders headers, Stream contentStream)\r\n   위치: System.Runtime.Remoting.Channels.Ipc.IpcClientTransportSink.ProcessMessage(IMessage msg, ITransportHeaders requestHeaders, Stream requestStream, ITransportHeaders& responseHeaders, Stream& responseStream)\r\n   위치: System.Runtime.Remoting.Channels.BinaryClientFormatterSink.SyncProcessMessage(IMessage msg)\r\n\r\nException rethrown at [0]: \r\n   위치: System.Runtime.Remoting.Proxies.RealProxy.HandleReturnMessage(IMessage reqMsg, IMessage retMsg)\r\n   위치: System.Runtime.Remoting.Proxies.RealProxy.PrivateInvoke(MessageData& msgData, Int32 type)\r\n   위치: ZOSAPI.IOpticalSystem.get_MFE()",
     "output_type": "error",
     "traceback": [
      "\u001b[1;31m---------------------------------------------------------------------------\u001b[0m",
      "\u001b[1;31mRemotingException\u001b[0m                         Traceback (most recent call last)",
      "Cell \u001b[1;32mIn[25], line 1\u001b[0m\n\u001b[1;32m----> 1\u001b[0m TheMFE \u001b[38;5;241m=\u001b[39m TheSystem\u001b[38;5;241m.\u001b[39mMFE\n\u001b[0;32m      3\u001b[0m MaxTerm \u001b[38;5;241m=\u001b[39m \u001b[38;5;241m37\u001b[39m\n\u001b[0;32m      6\u001b[0m ZERNType \u001b[38;5;241m=\u001b[39m ZOSAPI\u001b[38;5;241m.\u001b[39mEditors\u001b[38;5;241m.\u001b[39mMFE\u001b[38;5;241m.\u001b[39mMeritOperandType\u001b[38;5;241m.\u001b[39mZERN\n",
      "\u001b[1;31mRemotingException\u001b[0m: IPC 포트에 쓰지 못했습니다. 파이프가 닫히는 중입니다.\r\n\r\n\r\nServer stack trace: \r\n   위치: System.Runtime.Remoting.Channels.Ipc.IpcPort.Write(Byte[] data, Int32 offset, Int32 size)\r\n   위치: System.Runtime.Remoting.Channels.ChunkedMemoryStream.WriteTo(Stream stream)\r\n   위치: System.Runtime.Remoting.Channels.Ipc.IpcClientHandler.SendRequest(IMessage msg, ITransportHeaders headers, Stream contentStream)\r\n   위치: System.Runtime.Remoting.Channels.Ipc.IpcClientTransportSink.ProcessMessage(IMessage msg, ITransportHeaders requestHeaders, Stream requestStream, ITransportHeaders& responseHeaders, Stream& responseStream)\r\n   위치: System.Runtime.Remoting.Channels.BinaryClientFormatterSink.SyncProcessMessage(IMessage msg)\r\n\r\nException rethrown at [0]: \r\n   위치: System.Runtime.Remoting.Proxies.RealProxy.HandleReturnMessage(IMessage reqMsg, IMessage retMsg)\r\n   위치: System.Runtime.Remoting.Proxies.RealProxy.PrivateInvoke(MessageData& msgData, Int32 type)\r\n   위치: ZOSAPI.IOpticalSystem.get_MFE()"
     ]
    }
   ],
   "source": [
    "TheMFE = TheSystem.MFE\n",
    "\n",
    "MaxTerm = 37\n",
    "\n",
    "\n",
    "ZERNType = ZOSAPI.Editors.MFE.MeritOperandType.ZERN\n",
    "\n",
    "\n",
    "FirstOperand = TheMFE.GetOperandAt(1)\n",
    "\n",
    "\n",
    "FirstOperand.ChangeType(ZERNType)\n",
    "\n",
    "\n",
    "Wave = 1\n",
    "Samp = 2\n",
    "Field = 1\n",
    "Type = 1 # Standard coefficients\n",
    "Epsilon = 0.0\n",
    "Vertex = 0\n",
    "\n",
    "FirstOperand.GetOperandCell(2).DoubleValue = MaxTerm     # Term\n",
    "FirstOperand.GetOperandCell(3).DoubleValue = Wave        # Wave\n",
    "FirstOperand.GetOperandCell(4).DoubleValue = Samp        # Samp\n",
    "FirstOperand.GetOperandCell(5).DoubleValue = Field       # Field\n",
    "FirstOperand.GetOperandCell(6).DoubleValue = Type        # Type\n",
    "FirstOperand.GetOperandCell(7).DoubleValue = Epsilon      # Epsilon\n",
    "FirstOperand.GetOperandCell(8).DoubleValue = Vertex      # Vertex?\n",
    "\n",
    "\n",
    "for Term in range(1, MaxTerm):\n",
    "\n",
    "    NewOperand = TheMFE.InsertNewOperandAt(2)\n",
    "\n",
    "\n",
    "    NewOperand.ChangeType(ZERNType)\n",
    "\n",
    "    \n",
    "    # Adjust its settings\n",
    "    NewOperand.GetOperandCell(2).DoubleValue = Term        # Term\n",
    "    NewOperand.GetOperandCell(3).DoubleValue = Wave        # Wave\n",
    "    NewOperand.GetOperandCell(4).DoubleValue = Samp        # Samp\n",
    "    NewOperand.GetOperandCell(5).DoubleValue = Field       # Field\n",
    "    NewOperand.GetOperandCell(6).DoubleValue = Type        # Type\n",
    "    NewOperand.GetOperandCell(7).DoubleValue = Epsilon      # Epsilon\n",
    "    NewOperand.GetOperandCell(8).DoubleValue = Vertex      # Vertex?\n",
    "\n",
    "\n",
    "TheMFE.CalculateMeritFunction()\n",
    "\n",
    "\n",
    "for Index in range(MaxTerm, 0, -1):\n",
    "\n",
    "    CurrentOperand = TheMFE.GetOperandAt(Index)\n",
    "    Term = CurrentOperand.GetOperandCell(2).IntegerValue\n",
    "    TermValue = CurrentOperand.Value\n",
    "    print('Z {0} \\t {1: .8f}'.format(Term, TermValue))\n",
    "    "
   ]
  },
  {
   "cell_type": "code",
   "execution_count": null,
   "metadata": {},
   "outputs": [],
   "source": []
  }
 ],
 "metadata": {
  "kernelspec": {
   "display_name": "Python 3",
   "language": "python",
   "name": "python3"
  },
  "language_info": {
   "codemirror_mode": {
    "name": "ipython",
    "version": 3
   },
   "file_extension": ".py",
   "mimetype": "text/x-python",
   "name": "python",
   "nbconvert_exporter": "python",
   "pygments_lexer": "ipython3",
   "version": "3.12.1"
  }
 },
 "nbformat": 4,
 "nbformat_minor": 2
}
