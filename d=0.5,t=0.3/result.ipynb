{
 "cells": [
  {
   "cell_type": "code",
   "execution_count": 16,
   "metadata": {},
   "outputs": [
    {
     "name": "stdout",
     "output_type": "stream",
     "text": [
      "Found OpticStudio at:   %sc:\\program files\\ansys zemax opticstudio 2023 r2.00\n",
      "Connected to OpticStudio\n",
      "Serial #:  A1154551\n"
     ]
    }
   ],
   "source": [
    "import clr, os, winreg\n",
    "from itertools import islice\n",
    "\n",
    "# This boilerplate requires the 'pythonnet' module.\n",
    "# The following instructions are for installing the 'pythonnet' module via pip:\n",
    "#    1. Ensure you are running a Python version compatible with PythonNET. Check the article \"ZOS-API using Python.NET\" or\n",
    "#    \"Getting started with Python\" in our knowledge base for more details.\n",
    "#    2. Install 'pythonnet' from pip via a command prompt (type 'cmd' from the start menu or press Windows + R and type 'cmd' then enter)\n",
    "#\n",
    "#        python -m pip install pythonnet\n",
    "\n",
    "# determine the Zemax working directory\n",
    "aKey = winreg.OpenKey(winreg.ConnectRegistry(None, winreg.HKEY_CURRENT_USER), r\"Software\\Zemax\", 0, winreg.KEY_READ)\n",
    "zemaxData = winreg.QueryValueEx(aKey, 'ZemaxRoot')\n",
    "NetHelper = os.path.join(os.sep, zemaxData[0], r'ZOS-API\\Libraries\\ZOSAPI_NetHelper.dll')\n",
    "winreg.CloseKey(aKey)\n",
    "\n",
    "# add the NetHelper DLL for locating the OpticStudio install folder\n",
    "clr.AddReference(NetHelper)\n",
    "import ZOSAPI_NetHelper\n",
    "\n",
    "pathToInstall = ''\n",
    "# uncomment the following line to use a specific instance of the ZOS-API assemblies\n",
    "#pathToInstall = r'C:\\C:\\Program Files\\Zemax OpticStudio'\n",
    "\n",
    "# connect to OpticStudio\n",
    "success = ZOSAPI_NetHelper.ZOSAPI_Initializer.Initialize(pathToInstall);\n",
    "\n",
    "zemaxDir = ''\n",
    "if success:\n",
    "    zemaxDir = ZOSAPI_NetHelper.ZOSAPI_Initializer.GetZemaxDirectory();\n",
    "    print('Found OpticStudio at:   %s' + zemaxDir);\n",
    "else:\n",
    "    raise Exception('Cannot find OpticStudio')\n",
    "\n",
    "# load the ZOS-API assemblies\n",
    "clr.AddReference(os.path.join(os.sep, zemaxDir, r'ZOSAPI.dll'))\n",
    "clr.AddReference(os.path.join(os.sep, zemaxDir, r'ZOSAPI_Interfaces.dll'))\n",
    "import ZOSAPI\n",
    "\n",
    "TheConnection = ZOSAPI.ZOSAPI_Connection()\n",
    "if TheConnection is None:\n",
    "    raise Exception(\"Unable to intialize NET connection to ZOSAPI\")\n",
    "\n",
    "TheApplication = TheConnection.ConnectAsExtension(0)\n",
    "if TheApplication is None:\n",
    "    raise Exception(\"Unable to acquire ZOSAPI application\")\n",
    "\n",
    "if TheApplication.IsValidLicenseForAPI == False:\n",
    "    raise Exception(\"License is not valid for ZOSAPI use.  Make sure you have enabled 'Programming > Interactive Extension' from the OpticStudio GUI.\")\n",
    "\n",
    "TheSystem = TheApplication.PrimarySystem\n",
    "if TheSystem is None:\n",
    "    raise Exception(\"Unable to acquire Primary system\")\n",
    "\n",
    "def reshape(data, x, y, transpose = False):\n",
    "    \"\"\"Converts a System.Double[,] to a 2D list for plotting or post processing\n",
    "    \n",
    "    Parameters\n",
    "    ----------\n",
    "    data      : System.Double[,] data directly from ZOS-API \n",
    "    x         : x width of new 2D list [use var.GetLength(0) for dimension]\n",
    "    y         : y width of new 2D list [use var.GetLength(1) for dimension]\n",
    "    transpose : transposes data; needed for some multi-dimensional line series data\n",
    "    \n",
    "    Returns\n",
    "    -------\n",
    "    res       : 2D list; can be directly used with Matplotlib or converted to\n",
    "                a numpy array using numpy.asarray(res)\n",
    "    \"\"\"\n",
    "    if type(data) is not list:\n",
    "        data = list(data)\n",
    "    var_lst = [y] * x;\n",
    "    it = iter(data)\n",
    "    res = [list(islice(it, i)) for i in var_lst]\n",
    "    if transpose:\n",
    "        return self.transpose(res);\n",
    "    return res\n",
    "    \n",
    "def transpose(data):\n",
    "    \"\"\"Transposes a 2D list (Python3.x or greater).  \n",
    "    \n",
    "    Useful for converting mutli-dimensional line series (i.e. FFT PSF)\n",
    "    \n",
    "    Parameters\n",
    "    ----------\n",
    "    data      : Python native list (if using System.Data[,] object reshape first)    \n",
    "    \n",
    "    Returns\n",
    "    -------\n",
    "    res       : transposed 2D list\n",
    "    \"\"\"\n",
    "    if type(data) is not list:\n",
    "        data = list(data)\n",
    "    return list(map(list, zip(*data)))\n",
    "\n",
    "print('Connected to OpticStudio')\n",
    "\n",
    "# The connection should now be ready to use.  For example:\n",
    "print('Serial #: ', TheApplication.SerialCode)"
   ]
  },
  {
   "cell_type": "code",
   "execution_count": 2,
   "metadata": {},
   "outputs": [],
   "source": [
    "import numpy as np\n",
    "import matplotlib.pyplot as plt\n",
    "import os\n",
    "import pandas as pd"
   ]
  },
  {
   "cell_type": "code",
   "execution_count": 3,
   "metadata": {},
   "outputs": [],
   "source": [
    "file_path = 'D:/AI_Alignment/data/data' ## 뒤에 알맞은 수를 붙이면 됨"
   ]
  },
  {
   "cell_type": "code",
   "execution_count": 4,
   "metadata": {},
   "outputs": [],
   "source": [
    "f = open('D:/AI_Alignment/data/predicted_file_number.txt', 'r')\n",
    "data_number = f.read().splitlines()\n"
   ]
  },
  {
   "cell_type": "code",
   "execution_count": 5,
   "metadata": {},
   "outputs": [],
   "source": [
    "error_path = []\n",
    "predicted_error_path =[]\n",
    "for i in range(len(data_number)) :\n",
    "    full_path_error = file_path + data_number[i] + '/error.txt'\n",
    "    error_path.append(full_path_error)\n",
    "    full_path_predict = file_path + data_number[i] + '/predicted_error.txt'\n",
    "    predicted_error_path.append(full_path_predict)"
   ]
  },
  {
   "cell_type": "markdown",
   "metadata": {},
   "source": [
    "## 정답 데이터(answer) 및 알고리즘을 통한 데이터(prediction) 추출 "
   ]
  },
  {
   "cell_type": "code",
   "execution_count": 6,
   "metadata": {},
   "outputs": [],
   "source": [
    "answer = []\n",
    "prediction = []\n",
    "\n",
    "for i in range(len(error_path)) :\n",
    "    with open(error_path[i],'r',encoding = 'utf-8') as file :\n",
    "        lines = file.readlines()\n",
    "    error = []\n",
    "    for j in range(len(lines)) :\n",
    "        a = lines[j].strip()\n",
    "        error.append(a)\n",
    "    \n",
    "    answer.append(error)\n",
    "    \n",
    "    with open(predicted_error_path[i],'r',encoding = 'utf-8') as f :\n",
    "        pre = f.readlines()\n",
    "    predicted = []\n",
    "    for k in range(len(pre)) :\n",
    "        b = pre[k].strip()\n",
    "        predicted.append(b)\n",
    "    \n",
    "    prediction.append(predicted)\n",
    "    \n",
    "        \n",
    "     "
   ]
  },
  {
   "cell_type": "markdown",
   "metadata": {},
   "source": [
    "## 에러 부여 상황 그림"
   ]
  },
  {
   "cell_type": "code",
   "execution_count": 10,
   "metadata": {},
   "outputs": [],
   "source": [
    "rmse_avg_before = []\n",
    "rmse_std_before = []\n",
    "for i in range(len(answer)) :\n",
    "    data_path = file_path + data_number[i] + '/wfm_'\n",
    "    \n",
    "    RMS=[]\n",
    "    for j in range(5) :\n",
    "        path = data_path + str((j+1)) + '.txt'\n",
    "#        print(path)\n",
    "        f = open(path,'r', encoding = 'utf-16')\n",
    "        rmse = f.read().splitlines()[9].split()[8]\n",
    "        RMS.append(float(rmse))\n",
    "        \n",
    "    avg = np.mean(RMS)\n",
    "    std_ = np.std(RMS)\n",
    "    \n",
    "    rmse_avg_before.append(avg)\n",
    "    rmse_std_before.append(std_)\n",
    "    \n",
    "    \n",
    "                    \n",
    "    \n",
    "    \n",
    "    "
   ]
  },
  {
   "cell_type": "code",
   "execution_count": 11,
   "metadata": {},
   "outputs": [
    {
     "data": {
      "image/png": "[encoded data removed]",
      "text/plain": [
       "<Figure size 640x480 with 1 Axes>"
      ]
     },
     "metadata": {},
     "output_type": "display_data"
    }
   ],
   "source": [
    "plt.hist(rmse_avg_before)\n",
    "plt.title('Distribution in the context of error')\n",
    "plt.xlabel('RMSE [wave]')\n",
    "plt.ylabel('# of data')\n",
    "plt.show()"
   ]
  },
  {
   "cell_type": "code",
   "execution_count": 13,
   "metadata": {},
   "outputs": [
    {
     "name": "stdout",
     "output_type": "stream",
     "text": [
      "2.83773142 6.26232 0.2213 1.0293586785908901\n"
     ]
    }
   ],
   "source": [
    "avg = np.mean(rmse_avg_before)\n",
    "max_value = np.max(rmse_avg_before)\n",
    "min_value = np.min(rmse_avg_before)\n",
    "std_ = np.std(rmse_avg_before)\n",
    "print(avg, max_value,min_value,std_)"
   ]
  },
  {
   "cell_type": "code",
   "execution_count": null,
   "metadata": {},
   "outputs": [],
   "source": []
  },
  {
   "cell_type": "markdown",
   "metadata": {},
   "source": [
    "## 알고리즘 결과 대입"
   ]
  },
  {
   "cell_type": "code",
   "execution_count": 17,
   "metadata": {},
   "outputs": [],
   "source": [
    "avg_after = []\n",
    "std_after = []\n",
    "for i in range(len(answer)) :\n",
    "    data_path = file_path + data_number[i]\n",
    "    error = answer[i]\n",
    "    pre = prediction[i]\n",
    "    input_data = []\n",
    "    for j in range(6) :\n",
    "        a = float(error[j]) - float(pre[j])\n",
    "        input_data.append(a)\n",
    "\n",
    "    surf11 = TheSystem.LDE.GetSurfaceAt(11)\n",
    "    surf11.Thickness = input_data[2]\n",
    "    surf10 = TheSystem.LDE.GetSurfaceAt(10)\n",
    "    surf10.GetCellAt(12).DoubleValue = input_data[0]\n",
    "    surf10.GetCellAt(13).DoubleValue = input_data[1]\n",
    "    surf10.GetCellAt(14).DoubleValue = input_data[3]\n",
    "    surf10.GetCellAt(15).DoubleValue = input_data[4]\n",
    "    surf10.GetCellAt(16).DoubleValue = input_data[5]\n",
    "    \n",
    "    rmse = []\n",
    "    \n",
    "    for field in range(5) :\n",
    "        filed_number = field + 1\n",
    "        \n",
    "        # WFM\n",
    "        Mywavefront = TheSystem.Analyses.New_Analysis(ZOSAPI.Analysis.AnalysisIDM.WavefrontMap)\n",
    "        Mywavefront.WaitForCompletion()\n",
    "        Mywavefront_settings = Mywavefront.GetSettings()\n",
    "\n",
    "        Mywavefront_settings = ZOSAPI.Analysis.Settings.IAS_WavefrontMap(Mywavefront_settings)\n",
    "\n",
    "    \n",
    "        Mywavefront_settings.Field.SetFieldNumber(filed_number) #Field 설정\n",
    "        Mywavefront_settings.RemoveTilt = True\n",
    "\n",
    "        #RemoveTilt 설정\n",
    "        Mywavefront.ApplyAndWaitForCompletion()\n",
    "        Mywavefront_result = Mywavefront.GetResults()\n",
    "        file_name_wfm = 'wfm(after)_' + str(filed_number) + '.txt'\n",
    "        wfm_path = os.path.join(data_path,file_name_wfm)\n",
    "        Mywavefront_result.GetTextFile(wfm_path)#Result file 추출\n",
    "        Mywavefront.Close()\n",
    "        \n",
    "        f = open(wfm_path, 'r', encoding = 'utf-16')\n",
    "        data = float(f.read().splitlines()[9].split()[8])\n",
    "        rmse.append(data)\n",
    "        \n",
    "    avg_after.append(np.mean(rmse))\n",
    "    std_after.append(np.std(rmse))\n",
    "    \n",
    "    surf11 = TheSystem.LDE.GetSurfaceAt(11)\n",
    "    surf11.Thickness = 0\n",
    "    surf10 = TheSystem.LDE.GetSurfaceAt(10)\n",
    "    surf10.GetCellAt(12).DoubleValue = 0\n",
    "    surf10.GetCellAt(13).DoubleValue = 0\n",
    "    surf10.GetCellAt(14).DoubleValue = 0\n",
    "    surf10.GetCellAt(15).DoubleValue = 0\n",
    "    surf10.GetCellAt(16).DoubleValue = 0\n",
    "    \n",
    "    \n",
    "        \n",
    "    "
   ]
  },
  {
   "cell_type": "code",
   "execution_count": 24,
   "metadata": {},
   "outputs": [
    {
     "data": {
      "image/png": "[encoded data removed]",
      "text/plain": [
       "<Figure size 640x480 with 1 Axes>"
      ]
     },
     "metadata": {},
     "output_type": "display_data"
    }
   ],
   "source": [
    "plt.axvline(x=0.1,ymin=0,ymax=1,color = 'red', linestyle = '--')\n",
    "plt.hist(avg_after,histtype = 'step')\n",
    "plt.title('Distribution after algorithm')\n",
    "plt.xlabel('RMSE [wave]')\n",
    "plt.ylabel('# of data')\n",
    "plt.show()"
   ]
  },
  {
   "cell_type": "code",
   "execution_count": 19,
   "metadata": {},
   "outputs": [
    {
     "name": "stdout",
     "output_type": "stream",
     "text": [
      "0.09926882 0.28528000000000003 0.0775 0.020545921410528172\n"
     ]
    }
   ],
   "source": [
    "avg_after_ = np.mean(avg_after)\n",
    "max_value_after = np.max(avg_after)\n",
    "min_value_after = np.min(avg_after)\n",
    "std_after = np.std(avg_after)\n",
    "print(avg_after_, max_value_after,min_value_after,std_after)"
   ]
  },
  {
   "cell_type": "code",
   "execution_count": 25,
   "metadata": {},
   "outputs": [
    {
     "name": "stdout",
     "output_type": "stream",
     "text": [
      "669\n"
     ]
    }
   ],
   "source": [
    "over = []\n",
    "for item in avg_after :\n",
    "    if item > 0.1 :\n",
    "        over.append(item)\n",
    "\n",
    "print(len(over))"
   ]
  },
  {
   "cell_type": "code",
   "execution_count": null,
   "metadata": {},
   "outputs": [],
   "source": []
  }
 ],
 "metadata": {
  "kernelspec": {
   "display_name": "Python 3",
   "language": "python",
   "name": "python3"
  },
  "language_info": {
   "codemirror_mode": {
    "name": "ipython",
    "version": 3
   },
   "file_extension": ".py",
   "mimetype": "text/x-python",
   "name": "python",
   "nbconvert_exporter": "python",
   "pygments_lexer": "ipython3",
   "version": "3.9.19"
  }
 },
 "nbformat": 4,
 "nbformat_minor": 2
}
