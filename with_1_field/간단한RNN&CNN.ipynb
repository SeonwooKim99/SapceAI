{
  "cells": [
    {
      "cell_type": "code",
      "execution_count": null,
      "metadata": {
        "id": "mU8wxtqme-ij"
      },
      "outputs": [],
      "source": [
        "import numpy as np\n",
        "import pandas as pd\n",
        "from sklearn.preprocessing import StandardScaler\n",
        "import tensorflow as tf\n",
        "from tensorflow.keras.models import Sequential\n",
        "from tensorflow.keras.layers import Dense, SimpleRNN, Conv2D, MaxPooling2D, Flatten\n",
        "import os\n",
        "import matplotlib.pyplot as plt\n",
        "from sklearn.preprocessing import MinMaxScaler\n",
        "from sklearn.model_selection import train_test_split\n",
        "from tqdm import trange, notebook"
      ]
    },
    {
      "cell_type": "code",
      "execution_count": null,
      "metadata": {
        "colab": {
          "base_uri": "https://localhost:8080/"
        },
        "id": "OtifPH5Ef3M6",
        "outputId": "a8fad647-fb3b-4ed8-d02a-15640be89346"
      },
      "outputs": [
        {
          "name": "stdout",
          "output_type": "stream",
          "text": [
            "Drive already mounted at /content/drive; to attempt to forcibly remount, call drive.mount(\"/content/drive\", force_remount=True).\n"
          ]
        }
      ],
      "source": [
        "from google.colab import drive\n",
        "drive.mount('/content/drive')"
      ]
    },
    {
      "cell_type": "code",
      "execution_count": null,
      "metadata": {
        "id": "BldylYuagI5K"
      },
      "outputs": [],
      "source": [
        "path ='/content/drive/MyDrive/K-DRIFT/AI_K-DRIFT/data_for_AI/'"
      ]
    },
    {
      "cell_type": "code",
      "execution_count": null,
      "metadata": {
        "id": "Ew08obD_gXh0"
      },
      "outputs": [],
      "source": [
        "def load_data(base_path, num_samples=10000):\n",
        "    wfm_list = []\n",
        "    error_list = []\n",
        "\n",
        "    for i in notebook.tqdm(range(1, num_samples + 1)):\n",
        "        folder_path = os.path.join(base_path, f'data{i}')\n",
        "        wfm_file = os.path.join(folder_path, 'wfm.txt')\n",
        "        error_file = os.path.join(folder_path, 'error.txt')\n",
        "\n",
        "        # WFM 데이터 로드 (17번째 줄부터 사용)\n",
        "        with open(wfm_file, 'r',encoding = 'utf-16') as file:\n",
        "            lines = file.readlines()\n",
        "            wfm_data = np.array([list(map(float, line.split())) for line in lines[16:]])\n",
        "            wfm_list.append(wfm_data)\n",
        "\n",
        "        # Error 데이터 로드\n",
        "        error_data = np.loadtxt(error_file)\n",
        "        error_list.append(error_data)\n",
        "\n",
        "    wfm_array = np.array(wfm_list)\n",
        "    error_array = np.array(error_list)\n",
        "\n",
        "    return wfm_array, error_array"
      ]
    },
    {
      "cell_type": "code",
      "execution_count": null,
      "metadata": {
        "colab": {
          "base_uri": "https://localhost:8080/",
          "height": 49,
          "referenced_widgets": [
            "09e7e11dc3e742e3ad3631eca62a084c",
            "d24bd50a64cf40c4bb174d934c7dbce9",
            "f85eddd0fa6544ad9ad3b4506291393e",
            "66aab47a733240b5ab8391b38545b668",
            "fa557d454dd447aeaf2abc7e7644b4d8",
            "8f4ca77d65d84fc1b0ad36f509b48e98",
            "15d760ec7e124cb589f017fb4161f7be",
            "f18c113d028443718f8bb599422302ca",
            "fe6798eafb344e08a7ce1655e7050296",
            "14222ab4839c498584fa80ea14ad6c85",
            "edf93f8496054cb1a55889669f5019ee"
          ]
        },
        "id": "bsWrTKjagjAX",
        "outputId": "435db367-40de-46a2-f7ce-0d30ab0523fb"
      },
      "outputs": [
        {
          "data": {
            "application/vnd.jupyter.widget-view+json": {
              "model_id": "09e7e11dc3e742e3ad3631eca62a084c",
              "version_major": 2,
              "version_minor": 0
            },
            "text/plain": [
              "  0%|          | 0/10000 [00:00<?, ?it/s]"
            ]
          },
          "metadata": {},
          "output_type": "display_data"
        }
      ],
      "source": [
        "wfm_data, error_data = load_data(path)"
      ]
    },
    {
      "cell_type": "code",
      "execution_count": null,
      "metadata": {
        "id": "6PF79Umhgx07"
      },
      "outputs": [],
      "source": [
        "map_height = 64\n",
        "map_width = 64\n",
        "num_features = 6"
      ]
    },
    {
      "cell_type": "code",
      "execution_count": null,
      "metadata": {
        "id": "uuVCBRcsAUql"
      },
      "outputs": [],
      "source": [
        "len(wfm_data)"
      ]
    },
    {
      "cell_type": "code",
      "execution_count": null,
      "metadata": {
        "id": "J0nWlp7UVaMd"
      },
      "outputs": [],
      "source": [
        "scaler = MinMaxScaler()\n",
        "wavefront_maps_scaled = scaler.fit_transform(wfm_data.reshape(-1, map_height * map_width))\n",
        "wavefront_maps_scaled = wavefront_maps_scaled.reshape(-1, map_height, map_width, 1)\n"
      ]
    },
    {
      "cell_type": "code",
      "execution_count": null,
      "metadata": {
        "id": "-5-1fOzCVbzx"
      },
      "outputs": [],
      "source": [
        "X_train, X_test, y_train, y_test = train_test_split(wavefront_maps_scaled, error_data, test_size=0.2, random_state=42)"
      ]
    },
    {
      "cell_type": "code",
      "execution_count": null,
      "metadata": {
        "colab": {
          "background_save": true,
          "base_uri": "https://localhost:8080/"
        },
        "id": "sDOh7H2kVgRs",
        "outputId": "33282552-26bf-4ece-9eeb-53ca65a57717"
      },
      "outputs": [
        {
          "name": "stdout",
          "output_type": "stream",
          "text": [
            "Epoch 1/50\n",
            "100/100 [==============================] - 39s 382ms/step - loss: 1.7455 - mae: 1.7455 - val_loss: 1.6500 - val_mae: 1.6500\n",
            "Epoch 2/50\n",
            "100/100 [==============================] - 34s 343ms/step - loss: 1.5805 - mae: 1.5805 - val_loss: 1.5918 - val_mae: 1.5918\n",
            "Epoch 3/50\n",
            "100/100 [==============================] - 36s 357ms/step - loss: 1.5226 - mae: 1.5226 - val_loss: 1.5166 - val_mae: 1.5166\n",
            "Epoch 4/50\n",
            "100/100 [==============================] - 34s 338ms/step - loss: 1.4498 - mae: 1.4498 - val_loss: 1.4298 - val_mae: 1.4298\n",
            "Epoch 5/50\n",
            "100/100 [==============================] - 34s 336ms/step - loss: 1.3941 - mae: 1.3941 - val_loss: 1.3513 - val_mae: 1.3513\n",
            "Epoch 6/50\n",
            "100/100 [==============================] - 33s 326ms/step - loss: 1.3193 - mae: 1.3193 - val_loss: 1.3507 - val_mae: 1.3507\n",
            "Epoch 7/50\n",
            "100/100 [==============================] - 33s 334ms/step - loss: 1.2670 - mae: 1.2670 - val_loss: 1.2695 - val_mae: 1.2695\n",
            "Epoch 8/50\n",
            "100/100 [==============================] - 34s 339ms/step - loss: 1.1708 - mae: 1.1708 - val_loss: 1.1502 - val_mae: 1.1502\n",
            "Epoch 9/50\n",
            "100/100 [==============================] - 33s 326ms/step - loss: 1.0711 - mae: 1.0711 - val_loss: 1.0420 - val_mae: 1.0420\n",
            "Epoch 10/50\n",
            "100/100 [==============================] - 35s 347ms/step - loss: 1.0282 - mae: 1.0282 - val_loss: 0.9523 - val_mae: 0.9523\n",
            "Epoch 11/50\n",
            "100/100 [==============================] - 33s 327ms/step - loss: 0.9699 - mae: 0.9699 - val_loss: 0.9481 - val_mae: 0.9481\n",
            "Epoch 12/50\n",
            "100/100 [==============================] - 35s 355ms/step - loss: 0.9417 - mae: 0.9417 - val_loss: 0.8788 - val_mae: 0.8788\n",
            "Epoch 13/50\n",
            "100/100 [==============================] - 32s 324ms/step - loss: 0.8889 - mae: 0.8889 - val_loss: 0.8892 - val_mae: 0.8892\n",
            "Epoch 14/50\n",
            "100/100 [==============================] - 34s 341ms/step - loss: 0.8834 - mae: 0.8834 - val_loss: 0.8956 - val_mae: 0.8956\n",
            "Epoch 15/50\n",
            "100/100 [==============================] - 34s 338ms/step - loss: 0.8676 - mae: 0.8676 - val_loss: 0.8684 - val_mae: 0.8684\n",
            "Epoch 16/50\n",
            "100/100 [==============================] - 33s 328ms/step - loss: 0.8389 - mae: 0.8389 - val_loss: 0.8385 - val_mae: 0.8385\n",
            "Epoch 17/50\n",
            "100/100 [==============================] - 34s 342ms/step - loss: 0.8257 - mae: 0.8257 - val_loss: 0.8311 - val_mae: 0.8311\n",
            "Epoch 18/50\n",
            "100/100 [==============================] - 38s 377ms/step - loss: 0.8127 - mae: 0.8127 - val_loss: 0.8020 - val_mae: 0.8020\n",
            "Epoch 19/50\n",
            "100/100 [==============================] - 34s 337ms/step - loss: 0.7865 - mae: 0.7865 - val_loss: 0.7810 - val_mae: 0.7810\n",
            "Epoch 20/50\n",
            "100/100 [==============================] - 38s 379ms/step - loss: 0.8027 - mae: 0.8027 - val_loss: 0.8375 - val_mae: 0.8375\n",
            "Epoch 21/50\n",
            "100/100 [==============================] - 33s 331ms/step - loss: 0.7654 - mae: 0.7654 - val_loss: 0.7604 - val_mae: 0.7604\n",
            "Epoch 22/50\n",
            "100/100 [==============================] - 33s 336ms/step - loss: 0.7636 - mae: 0.7636 - val_loss: 0.7820 - val_mae: 0.7820\n",
            "Epoch 23/50\n",
            "100/100 [==============================] - 34s 341ms/step - loss: 0.7513 - mae: 0.7513 - val_loss: 0.7343 - val_mae: 0.7343\n",
            "Epoch 24/50\n",
            "100/100 [==============================] - 34s 341ms/step - loss: 0.7067 - mae: 0.7067 - val_loss: 0.7289 - val_mae: 0.7289\n",
            "Epoch 25/50\n",
            "100/100 [==============================] - 37s 366ms/step - loss: 0.6919 - mae: 0.6919 - val_loss: 0.7413 - val_mae: 0.7413\n",
            "Epoch 26/50\n",
            "100/100 [==============================] - 34s 338ms/step - loss: 0.7038 - mae: 0.7038 - val_loss: 0.7082 - val_mae: 0.7082\n",
            "Epoch 27/50\n",
            "100/100 [==============================] - 34s 337ms/step - loss: 0.6686 - mae: 0.6686 - val_loss: 0.6657 - val_mae: 0.6657\n",
            "Epoch 28/50\n",
            "100/100 [==============================] - 33s 328ms/step - loss: 0.6532 - mae: 0.6532 - val_loss: 0.7050 - val_mae: 0.7050\n",
            "Epoch 29/50\n",
            "100/100 [==============================] - 33s 333ms/step - loss: 0.6408 - mae: 0.6408 - val_loss: 0.6525 - val_mae: 0.6525\n",
            "Epoch 30/50\n",
            "100/100 [==============================] - 34s 340ms/step - loss: 0.6239 - mae: 0.6239 - val_loss: 0.6300 - val_mae: 0.6300\n",
            "Epoch 31/50\n",
            "100/100 [==============================] - 37s 365ms/step - loss: 0.6052 - mae: 0.6052 - val_loss: 0.6271 - val_mae: 0.6271\n",
            "Epoch 32/50\n",
            "100/100 [==============================] - 35s 354ms/step - loss: 0.6538 - mae: 0.6538 - val_loss: 0.6220 - val_mae: 0.6220\n",
            "Epoch 33/50\n",
            "100/100 [==============================] - 33s 332ms/step - loss: 0.5994 - mae: 0.5994 - val_loss: 0.6830 - val_mae: 0.6830\n",
            "Epoch 34/50\n",
            "100/100 [==============================] - 34s 336ms/step - loss: 0.6090 - mae: 0.6090 - val_loss: 0.7047 - val_mae: 0.7047\n",
            "Epoch 35/50\n",
            "100/100 [==============================] - 34s 338ms/step - loss: 0.6171 - mae: 0.6171 - val_loss: 0.6383 - val_mae: 0.6383\n",
            "Epoch 36/50\n",
            "100/100 [==============================] - 37s 365ms/step - loss: 0.5894 - mae: 0.5894 - val_loss: 0.5971 - val_mae: 0.5971\n",
            "Epoch 37/50\n",
            "100/100 [==============================] - 34s 337ms/step - loss: 0.5995 - mae: 0.5995 - val_loss: 0.6024 - val_mae: 0.6024\n",
            "Epoch 38/50\n",
            "100/100 [==============================] - 35s 356ms/step - loss: 0.5836 - mae: 0.5836 - val_loss: 0.6176 - val_mae: 0.6176\n",
            "Epoch 39/50\n",
            "100/100 [==============================] - 34s 339ms/step - loss: 0.5749 - mae: 0.5749 - val_loss: 0.5624 - val_mae: 0.5624\n",
            "Epoch 40/50\n",
            "100/100 [==============================] - 34s 343ms/step - loss: 0.5678 - mae: 0.5678 - val_loss: 0.5671 - val_mae: 0.5671\n",
            "Epoch 41/50\n",
            "100/100 [==============================] - 34s 340ms/step - loss: 0.5587 - mae: 0.5587 - val_loss: 0.5616 - val_mae: 0.5616\n",
            "Epoch 42/50\n",
            "100/100 [==============================] - 33s 329ms/step - loss: 0.5866 - mae: 0.5866 - val_loss: 0.5649 - val_mae: 0.5649\n",
            "Epoch 43/50\n",
            "100/100 [==============================] - 34s 338ms/step - loss: 0.5629 - mae: 0.5629 - val_loss: 0.5606 - val_mae: 0.5606\n",
            "Epoch 44/50\n",
            "100/100 [==============================] - 32s 325ms/step - loss: 0.5410 - mae: 0.5410 - val_loss: 0.6045 - val_mae: 0.6045\n",
            "Epoch 45/50\n",
            "100/100 [==============================] - 35s 354ms/step - loss: 0.5402 - mae: 0.5402 - val_loss: 0.5910 - val_mae: 0.5910\n",
            "Epoch 46/50\n",
            "100/100 [==============================] - 34s 338ms/step - loss: 0.5271 - mae: 0.5271 - val_loss: 0.6287 - val_mae: 0.6287\n",
            "Epoch 47/50\n",
            "100/100 [==============================] - 34s 339ms/step - loss: 0.5308 - mae: 0.5308 - val_loss: 0.5439 - val_mae: 0.5439\n",
            "Epoch 48/50\n",
            "100/100 [==============================] - 34s 337ms/step - loss: 0.5331 - mae: 0.5331 - val_loss: 0.5945 - val_mae: 0.5945\n",
            "Epoch 49/50\n",
            "100/100 [==============================] - 32s 324ms/step - loss: 0.5678 - mae: 0.5678 - val_loss: 0.5805 - val_mae: 0.5805\n",
            "Epoch 50/50\n",
            "100/100 [==============================] - 32s 325ms/step - loss: 0.5296 - mae: 0.5296 - val_loss: 0.5345 - val_mae: 0.5345\n"
          ]
        },
        {
          "data": {
            "text/plain": [
              "<keras.src.callbacks.History at 0x79069de15b40>"
            ]
          },
          "execution_count": 29,
          "metadata": {},
          "output_type": "execute_result"
        }
      ],
      "source": [
        "import tensorflow as tf\n",
        "from tensorflow.keras.models import Sequential\n",
        "from tensorflow.keras.layers import Conv2D, MaxPooling2D, Flatten, Dense\n",
        "\n",
        "# CNN 모델 정의\n",
        "cnn_model = Sequential([\n",
        "    Conv2D(32, (3, 3), activation='relu', input_shape=(map_height, map_width, 1)),\n",
        "    MaxPooling2D((2, 2)),\n",
        "    Conv2D(64, (3, 3), activation='relu'),\n",
        "    MaxPooling2D((2, 2)),\n",
        "    Flatten(),\n",
        "    Dense(128, activation='relu'),\n",
        "    Dense(num_features)\n",
        "])\n",
        "\n",
        "cnn_model.compile(optimizer='adam', loss='mae', metrics=['mae'])\n",
        "\n",
        "# 모델 학습\n",
        "cnn_model.fit(X_train, y_train, epochs=50, batch_size=64, validation_split=0.2)\n"
      ]
    },
    {
      "cell_type": "code",
      "execution_count": null,
      "metadata": {
        "colab": {
          "base_uri": "https://localhost:8080/"
        },
        "id": "78aQ7JHRVkdL",
        "outputId": "262ecc25-d01f-4677-b80f-6bc02915ab08"
      },
      "outputs": [
        {
          "name": "stdout",
          "output_type": "stream",
          "text": [
            "Epoch 1/50\n",
            "10/10 [==============================] - 6s 193ms/step - loss: 2.4470 - mae: 2.4470 - val_loss: 2.3947 - val_mae: 2.3947\n",
            "Epoch 2/50\n",
            "10/10 [==============================] - 1s 87ms/step - loss: 2.2498 - mae: 2.2498 - val_loss: 2.1401 - val_mae: 2.1401\n",
            "Epoch 3/50\n",
            "10/10 [==============================] - 1s 98ms/step - loss: 2.0308 - mae: 2.0308 - val_loss: 1.9787 - val_mae: 1.9787\n",
            "Epoch 4/50\n",
            "10/10 [==============================] - 1s 98ms/step - loss: 1.8774 - mae: 1.8774 - val_loss: 1.8398 - val_mae: 1.8398\n",
            "Epoch 5/50\n",
            "10/10 [==============================] - 1s 97ms/step - loss: 1.7893 - mae: 1.7893 - val_loss: 1.7507 - val_mae: 1.7507\n",
            "Epoch 6/50\n",
            "10/10 [==============================] - 1s 91ms/step - loss: 1.7442 - mae: 1.7442 - val_loss: 1.7130 - val_mae: 1.7130\n",
            "Epoch 7/50\n",
            "10/10 [==============================] - 1s 116ms/step - loss: 1.6972 - mae: 1.6972 - val_loss: 1.6652 - val_mae: 1.6652\n",
            "Epoch 8/50\n",
            "10/10 [==============================] - 1s 143ms/step - loss: 1.6552 - mae: 1.6552 - val_loss: 1.6315 - val_mae: 1.6315\n",
            "Epoch 9/50\n",
            "10/10 [==============================] - 1s 146ms/step - loss: 1.6313 - mae: 1.6313 - val_loss: 1.6266 - val_mae: 1.6266\n",
            "Epoch 10/50\n",
            "10/10 [==============================] - 1s 142ms/step - loss: 1.6207 - mae: 1.6207 - val_loss: 1.6253 - val_mae: 1.6253\n",
            "Epoch 11/50\n",
            "10/10 [==============================] - 1s 90ms/step - loss: 1.6142 - mae: 1.6142 - val_loss: 1.6189 - val_mae: 1.6189\n",
            "Epoch 12/50\n",
            "10/10 [==============================] - 1s 92ms/step - loss: 1.6176 - mae: 1.6176 - val_loss: 1.6171 - val_mae: 1.6171\n",
            "Epoch 13/50\n",
            "10/10 [==============================] - 1s 87ms/step - loss: 1.5995 - mae: 1.5995 - val_loss: 1.6380 - val_mae: 1.6380\n",
            "Epoch 14/50\n",
            "10/10 [==============================] - 1s 91ms/step - loss: 1.5985 - mae: 1.5985 - val_loss: 1.6173 - val_mae: 1.6173\n",
            "Epoch 15/50\n",
            "10/10 [==============================] - 1s 98ms/step - loss: 1.6273 - mae: 1.6273 - val_loss: 1.6355 - val_mae: 1.6355\n",
            "Epoch 16/50\n",
            "10/10 [==============================] - 1s 90ms/step - loss: 1.6040 - mae: 1.6040 - val_loss: 1.6119 - val_mae: 1.6119\n",
            "Epoch 17/50\n",
            "10/10 [==============================] - 1s 99ms/step - loss: 1.6014 - mae: 1.6014 - val_loss: 1.6022 - val_mae: 1.6022\n",
            "Epoch 18/50\n",
            "10/10 [==============================] - 1s 92ms/step - loss: 1.5886 - mae: 1.5886 - val_loss: 1.6140 - val_mae: 1.6140\n",
            "Epoch 19/50\n",
            "10/10 [==============================] - 1s 101ms/step - loss: 1.5888 - mae: 1.5888 - val_loss: 1.6050 - val_mae: 1.6050\n",
            "Epoch 20/50\n",
            "10/10 [==============================] - 1s 92ms/step - loss: 1.5822 - mae: 1.5822 - val_loss: 1.6245 - val_mae: 1.6245\n",
            "Epoch 21/50\n",
            "10/10 [==============================] - 1s 110ms/step - loss: 1.5817 - mae: 1.5817 - val_loss: 1.5986 - val_mae: 1.5986\n",
            "Epoch 22/50\n",
            "10/10 [==============================] - 1s 146ms/step - loss: 1.5699 - mae: 1.5699 - val_loss: 1.5888 - val_mae: 1.5888\n",
            "Epoch 23/50\n",
            "10/10 [==============================] - 1s 149ms/step - loss: 1.5776 - mae: 1.5776 - val_loss: 1.6183 - val_mae: 1.6183\n",
            "Epoch 24/50\n",
            "10/10 [==============================] - 2s 154ms/step - loss: 1.5616 - mae: 1.5616 - val_loss: 1.6034 - val_mae: 1.6034\n",
            "Epoch 25/50\n",
            "10/10 [==============================] - 1s 97ms/step - loss: 1.5642 - mae: 1.5642 - val_loss: 1.6146 - val_mae: 1.6146\n",
            "Epoch 26/50\n",
            "10/10 [==============================] - 1s 91ms/step - loss: 1.5626 - mae: 1.5626 - val_loss: 1.6029 - val_mae: 1.6029\n",
            "Epoch 27/50\n",
            "10/10 [==============================] - 1s 97ms/step - loss: 1.5523 - mae: 1.5523 - val_loss: 1.6123 - val_mae: 1.6123\n",
            "Epoch 28/50\n",
            "10/10 [==============================] - 1s 90ms/step - loss: 1.5510 - mae: 1.5510 - val_loss: 1.6141 - val_mae: 1.6141\n",
            "Epoch 29/50\n",
            "10/10 [==============================] - 1s 110ms/step - loss: 1.5573 - mae: 1.5573 - val_loss: 1.5956 - val_mae: 1.5956\n",
            "Epoch 30/50\n",
            "10/10 [==============================] - 1s 140ms/step - loss: 1.5397 - mae: 1.5397 - val_loss: 1.6255 - val_mae: 1.6255\n",
            "Epoch 31/50\n",
            "10/10 [==============================] - 1s 148ms/step - loss: 1.5424 - mae: 1.5424 - val_loss: 1.6117 - val_mae: 1.6117\n",
            "Epoch 32/50\n",
            "10/10 [==============================] - 1s 150ms/step - loss: 1.5580 - mae: 1.5580 - val_loss: 1.5875 - val_mae: 1.5875\n",
            "Epoch 33/50\n",
            "10/10 [==============================] - 1s 107ms/step - loss: 1.5596 - mae: 1.5596 - val_loss: 1.5862 - val_mae: 1.5862\n",
            "Epoch 34/50\n",
            "10/10 [==============================] - 1s 141ms/step - loss: 1.5223 - mae: 1.5223 - val_loss: 1.6032 - val_mae: 1.6032\n",
            "Epoch 35/50\n",
            "10/10 [==============================] - 1s 143ms/step - loss: 1.5172 - mae: 1.5172 - val_loss: 1.5927 - val_mae: 1.5927\n",
            "Epoch 36/50\n",
            "10/10 [==============================] - 1s 148ms/step - loss: 1.5074 - mae: 1.5074 - val_loss: 1.5685 - val_mae: 1.5685\n",
            "Epoch 37/50\n",
            "10/10 [==============================] - 1s 105ms/step - loss: 1.5021 - mae: 1.5021 - val_loss: 1.5904 - val_mae: 1.5904\n",
            "Epoch 38/50\n",
            "10/10 [==============================] - 1s 89ms/step - loss: 1.5138 - mae: 1.5138 - val_loss: 1.5831 - val_mae: 1.5831\n",
            "Epoch 39/50\n",
            "10/10 [==============================] - 1s 82ms/step - loss: 1.5421 - mae: 1.5421 - val_loss: 1.6427 - val_mae: 1.6427\n",
            "Epoch 40/50\n",
            "10/10 [==============================] - 1s 89ms/step - loss: 1.5405 - mae: 1.5405 - val_loss: 1.6084 - val_mae: 1.6084\n",
            "Epoch 41/50\n",
            "10/10 [==============================] - 1s 97ms/step - loss: 1.5051 - mae: 1.5051 - val_loss: 1.5926 - val_mae: 1.5926\n",
            "Epoch 42/50\n",
            "10/10 [==============================] - 1s 100ms/step - loss: 1.4867 - mae: 1.4867 - val_loss: 1.6004 - val_mae: 1.6004\n",
            "Epoch 43/50\n",
            "10/10 [==============================] - 1s 93ms/step - loss: 1.4774 - mae: 1.4774 - val_loss: 1.6151 - val_mae: 1.6151\n",
            "Epoch 44/50\n",
            "10/10 [==============================] - 1s 90ms/step - loss: 1.4757 - mae: 1.4757 - val_loss: 1.5604 - val_mae: 1.5604\n",
            "Epoch 45/50\n",
            "10/10 [==============================] - 1s 82ms/step - loss: 1.4702 - mae: 1.4702 - val_loss: 1.6315 - val_mae: 1.6315\n",
            "Epoch 46/50\n",
            "10/10 [==============================] - 1s 90ms/step - loss: 1.4942 - mae: 1.4942 - val_loss: 1.6450 - val_mae: 1.6450\n",
            "Epoch 47/50\n",
            "10/10 [==============================] - 1s 99ms/step - loss: 1.5037 - mae: 1.5037 - val_loss: 1.6320 - val_mae: 1.6320\n",
            "Epoch 48/50\n",
            "10/10 [==============================] - 1s 116ms/step - loss: 1.5339 - mae: 1.5339 - val_loss: 1.5968 - val_mae: 1.5968\n",
            "Epoch 49/50\n",
            "10/10 [==============================] - 1s 145ms/step - loss: 1.5036 - mae: 1.5036 - val_loss: 1.6197 - val_mae: 1.6197\n",
            "Epoch 50/50\n",
            "10/10 [==============================] - 1s 145ms/step - loss: 1.5012 - mae: 1.5012 - val_loss: 1.6285 - val_mae: 1.6285\n"
          ]
        },
        {
          "data": {
            "text/plain": [
              "<keras.src.callbacks.History at 0x7906a69f36a0>"
            ]
          },
          "execution_count": 17,
          "metadata": {},
          "output_type": "execute_result"
        }
      ],
      "source": [
        "from tensorflow.keras.layers import LSTM\n",
        "\n",
        "# RNN 모델 정의\n",
        "rnn_model = Sequential([\n",
        "    LSTM(64, return_sequences=True, input_shape=(map_height, map_width)),\n",
        "    LSTM(64),\n",
        "    Dense(128, activation='relu'),\n",
        "    Dense(num_features)\n",
        "])\n",
        "\n",
        "rnn_model.compile(optimizer='adam', loss='mae', metrics=['mae'])\n",
        "\n",
        "# 모델 학습\n",
        "rnn_model.fit(X_train, y_train, epochs=50, batch_size=64, validation_split=0.2)\n"
      ]
    },
    {
      "cell_type": "code",
      "execution_count": null,
      "metadata": {
        "colab": {
          "base_uri": "https://localhost:8080/"
        },
        "id": "uJQsCLy1Vl-T",
        "outputId": "b430b417-e123-49b6-e832-f873f0d206c3"
      },
      "outputs": [
        {
          "name": "stdout",
          "output_type": "stream",
          "text": [
            "7/7 [==============================] - 0s 33ms/step - loss: 1.2659 - mae: 1.2659\n",
            "7/7 [==============================] - 0s 21ms/step - loss: 1.6177 - mae: 1.6177\n",
            "CNN Model MAE: 1.2658690214157104\n",
            "RNN Model MAE: 1.6176652908325195\n",
            "7/7 [==============================] - 0s 36ms/step\n",
            "7/7 [==============================] - 1s 20ms/step\n",
            "Sample 1:\n",
            "Actual Errors: [ 1.907  0.756  2.63  -3.792  4.938 -2.169]\n",
            "CNN Predicted Errors: [-2.472746    0.63242215  3.5195777  -3.6890392   2.3034618  -2.5062127 ]\n",
            "RNN Predicted Errors: [-1.917227   0.1497048  3.0492332 -3.9649     2.5700145 -3.3934793]\n",
            "\n",
            "Sample 2:\n",
            "Actual Errors: [-1.811 -3.554 -3.132  2.612 -0.242  4.243]\n",
            "CNN Predicted Errors: [ 0.42638943 -2.0286808  -4.210969    0.9975632  -1.9976084   2.7641108 ]\n",
            "RNN Predicted Errors: [ 0.86569977 -2.8908942  -4.0689874   1.661438   -2.1828687   2.480794  ]\n",
            "\n",
            "Sample 3:\n",
            "Actual Errors: [ 3.443 -0.233  1.811 -3.466 -3.218 -3.511]\n",
            "CNN Predicted Errors: [ 1.2933028   0.06833887  1.9125139  -3.4919064  -0.11347507  0.22210911]\n",
            "RNN Predicted Errors: [ 0.90653217 -2.1755898   1.266045   -2.804521   -1.4962507   0.32004675]\n",
            "\n",
            "Sample 4:\n",
            "Actual Errors: [-3.577 -0.425 -1.199 -0.447  0.686 -4.122]\n",
            "CNN Predicted Errors: [-1.8200876  -0.56360465 -1.9544234  -0.6456451   2.765238   -2.7376864 ]\n",
            "RNN Predicted Errors: [-1.8969721  -1.1593307  -2.309307   -0.73459065  3.9417152  -3.572848  ]\n",
            "\n",
            "Sample 5:\n",
            "Actual Errors: [ 2.112 -2.877 -2.248 -1.745  4.027  3.144]\n",
            "CNN Predicted Errors: [-0.02365283 -1.4244763  -2.3817408  -3.0161982  -0.7349055   1.0491098 ]\n",
            "RNN Predicted Errors: [-0.22555678 -0.77312    -2.7313774  -2.7609057  -1.2742885   0.31329173]\n",
            "\n"
          ]
        }
      ],
      "source": [
        "# 모델 평가\n",
        "cnn_eval = cnn_model.evaluate(X_test, y_test)\n",
        "rnn_eval = rnn_model.evaluate(X_test, y_test)\n",
        "\n",
        "print(f'CNN Model MAE: {cnn_eval[1]}')\n",
        "print(f'RNN Model MAE: {rnn_eval[1]}')\n",
        "\n",
        "# 예측값과 실제값 비교\n",
        "cnn_predictions = cnn_model.predict(X_test)\n",
        "rnn_predictions = rnn_model.predict(X_test)\n",
        "\n",
        "# 첫 5개 샘플의 예측값과 실제값 출력\n",
        "for i in range(5):\n",
        "    print(f'Sample {i+1}:')\n",
        "    print(f'Actual Errors: {y_test[i]}')\n",
        "    print(f'CNN Predicted Errors: {cnn_predictions[i]}')\n",
        "    print(f'RNN Predicted Errors: {rnn_predictions[i]}')\n",
        "    print()\n"
      ]
    },
    {
      "cell_type": "code",
      "execution_count": null,
      "metadata": {
        "id": "FofFIdlGVoCC"
      },
      "outputs": [],
      "source": []
    }
  ],
  "metadata": {
    "colab": {
      "provenance": []
    },
    "kernelspec": {
      "display_name": "Python 3",
      "name": "python3"
    },
    "language_info": {
      "name": "python",
      "version": "3.12.1"
    },
    "widgets": {
      "application/vnd.jupyter.widget-state+json": {
        "09e7e11dc3e742e3ad3631eca62a084c": {
          "model_module": "@jupyter-widgets/controls",
          "model_module_version": "1.5.0",
          "model_name": "HBoxModel",
          "state": {
            "_dom_classes": [],
            "_model_module": "@jupyter-widgets/controls",
            "_model_module_version": "1.5.0",
            "_model_name": "HBoxModel",
            "_view_count": null,
            "_view_module": "@jupyter-widgets/controls",
            "_view_module_version": "1.5.0",
            "_view_name": "HBoxView",
            "box_style": "",
            "children": [
              "IPY_MODEL_d24bd50a64cf40c4bb174d934c7dbce9",
              "IPY_MODEL_f85eddd0fa6544ad9ad3b4506291393e",
              "IPY_MODEL_66aab47a733240b5ab8391b38545b668"
            ],
            "layout": "IPY_MODEL_fa557d454dd447aeaf2abc7e7644b4d8"
          }
        },
        "14222ab4839c498584fa80ea14ad6c85": {
          "model_module": "@jupyter-widgets/base",
          "model_module_version": "1.2.0",
          "model_name": "LayoutModel",
          "state": {
            "_model_module": "@jupyter-widgets/base",
            "_model_module_version": "1.2.0",
            "_model_name": "LayoutModel",
            "_view_count": null,
            "_view_module": "@jupyter-widgets/base",
            "_view_module_version": "1.2.0",
            "_view_name": "LayoutView",
            "align_content": null,
            "align_items": null,
            "align_self": null,
            "border": null,
            "bottom": null,
            "display": null,
            "flex": null,
            "flex_flow": null,
            "grid_area": null,
            "grid_auto_columns": null,
            "grid_auto_flow": null,
            "grid_auto_rows": null,
            "grid_column": null,
            "grid_gap": null,
            "grid_row": null,
            "grid_template_areas": null,
            "grid_template_columns": null,
            "grid_template_rows": null,
            "height": null,
            "justify_content": null,
            "justify_items": null,
            "left": null,
            "margin": null,
            "max_height": null,
            "max_width": null,
            "min_height": null,
            "min_width": null,
            "object_fit": null,
            "object_position": null,
            "order": null,
            "overflow": null,
            "overflow_x": null,
            "overflow_y": null,
            "padding": null,
            "right": null,
            "top": null,
            "visibility": null,
            "width": null
          }
        },
        "15d760ec7e124cb589f017fb4161f7be": {
          "model_module": "@jupyter-widgets/controls",
          "model_module_version": "1.5.0",
          "model_name": "DescriptionStyleModel",
          "state": {
            "_model_module": "@jupyter-widgets/controls",
            "_model_module_version": "1.5.0",
            "_model_name": "DescriptionStyleModel",
            "_view_count": null,
            "_view_module": "@jupyter-widgets/base",
            "_view_module_version": "1.2.0",
            "_view_name": "StyleView",
            "description_width": ""
          }
        },
        "66aab47a733240b5ab8391b38545b668": {
          "model_module": "@jupyter-widgets/controls",
          "model_module_version": "1.5.0",
          "model_name": "HTMLModel",
          "state": {
            "_dom_classes": [],
            "_model_module": "@jupyter-widgets/controls",
            "_model_module_version": "1.5.0",
            "_model_name": "HTMLModel",
            "_view_count": null,
            "_view_module": "@jupyter-widgets/controls",
            "_view_module_version": "1.5.0",
            "_view_name": "HTMLView",
            "description": "",
            "description_tooltip": null,
            "layout": "IPY_MODEL_14222ab4839c498584fa80ea14ad6c85",
            "placeholder": "​",
            "style": "IPY_MODEL_edf93f8496054cb1a55889669f5019ee",
            "value": " 10000/10000 [2:15:22&lt;00:00,  1.10it/s]"
          }
        },
        "8f4ca77d65d84fc1b0ad36f509b48e98": {
          "model_module": "@jupyter-widgets/base",
          "model_module_version": "1.2.0",
          "model_name": "LayoutModel",
          "state": {
            "_model_module": "@jupyter-widgets/base",
            "_model_module_version": "1.2.0",
            "_model_name": "LayoutModel",
            "_view_count": null,
            "_view_module": "@jupyter-widgets/base",
            "_view_module_version": "1.2.0",
            "_view_name": "LayoutView",
            "align_content": null,
            "align_items": null,
            "align_self": null,
            "border": null,
            "bottom": null,
            "display": null,
            "flex": null,
            "flex_flow": null,
            "grid_area": null,
            "grid_auto_columns": null,
            "grid_auto_flow": null,
            "grid_auto_rows": null,
            "grid_column": null,
            "grid_gap": null,
            "grid_row": null,
            "grid_template_areas": null,
            "grid_template_columns": null,
            "grid_template_rows": null,
            "height": null,
            "justify_content": null,
            "justify_items": null,
            "left": null,
            "margin": null,
            "max_height": null,
            "max_width": null,
            "min_height": null,
            "min_width": null,
            "object_fit": null,
            "object_position": null,
            "order": null,
            "overflow": null,
            "overflow_x": null,
            "overflow_y": null,
            "padding": null,
            "right": null,
            "top": null,
            "visibility": null,
            "width": null
          }
        },
        "d24bd50a64cf40c4bb174d934c7dbce9": {
          "model_module": "@jupyter-widgets/controls",
          "model_module_version": "1.5.0",
          "model_name": "HTMLModel",
          "state": {
            "_dom_classes": [],
            "_model_module": "@jupyter-widgets/controls",
            "_model_module_version": "1.5.0",
            "_model_name": "HTMLModel",
            "_view_count": null,
            "_view_module": "@jupyter-widgets/controls",
            "_view_module_version": "1.5.0",
            "_view_name": "HTMLView",
            "description": "",
            "description_tooltip": null,
            "layout": "IPY_MODEL_8f4ca77d65d84fc1b0ad36f509b48e98",
            "placeholder": "​",
            "style": "IPY_MODEL_15d760ec7e124cb589f017fb4161f7be",
            "value": "100%"
          }
        },
        "edf93f8496054cb1a55889669f5019ee": {
          "model_module": "@jupyter-widgets/controls",
          "model_module_version": "1.5.0",
          "model_name": "DescriptionStyleModel",
          "state": {
            "_model_module": "@jupyter-widgets/controls",
            "_model_module_version": "1.5.0",
            "_model_name": "DescriptionStyleModel",
            "_view_count": null,
            "_view_module": "@jupyter-widgets/base",
            "_view_module_version": "1.2.0",
            "_view_name": "StyleView",
            "description_width": ""
          }
        },
        "f18c113d028443718f8bb599422302ca": {
          "model_module": "@jupyter-widgets/base",
          "model_module_version": "1.2.0",
          "model_name": "LayoutModel",
          "state": {
            "_model_module": "@jupyter-widgets/base",
            "_model_module_version": "1.2.0",
            "_model_name": "LayoutModel",
            "_view_count": null,
            "_view_module": "@jupyter-widgets/base",
            "_view_module_version": "1.2.0",
            "_view_name": "LayoutView",
            "align_content": null,
            "align_items": null,
            "align_self": null,
            "border": null,
            "bottom": null,
            "display": null,
            "flex": null,
            "flex_flow": null,
            "grid_area": null,
            "grid_auto_columns": null,
            "grid_auto_flow": null,
            "grid_auto_rows": null,
            "grid_column": null,
            "grid_gap": null,
            "grid_row": null,
            "grid_template_areas": null,
            "grid_template_columns": null,
            "grid_template_rows": null,
            "height": null,
            "justify_content": null,
            "justify_items": null,
            "left": null,
            "margin": null,
            "max_height": null,
            "max_width": null,
            "min_height": null,
            "min_width": null,
            "object_fit": null,
            "object_position": null,
            "order": null,
            "overflow": null,
            "overflow_x": null,
            "overflow_y": null,
            "padding": null,
            "right": null,
            "top": null,
            "visibility": null,
            "width": null
          }
        },
        "f85eddd0fa6544ad9ad3b4506291393e": {
          "model_module": "@jupyter-widgets/controls",
          "model_module_version": "1.5.0",
          "model_name": "FloatProgressModel",
          "state": {
            "_dom_classes": [],
            "_model_module": "@jupyter-widgets/controls",
            "_model_module_version": "1.5.0",
            "_model_name": "FloatProgressModel",
            "_view_count": null,
            "_view_module": "@jupyter-widgets/controls",
            "_view_module_version": "1.5.0",
            "_view_name": "ProgressView",
            "bar_style": "success",
            "description": "",
            "description_tooltip": null,
            "layout": "IPY_MODEL_f18c113d028443718f8bb599422302ca",
            "max": 10000,
            "min": 0,
            "orientation": "horizontal",
            "style": "IPY_MODEL_fe6798eafb344e08a7ce1655e7050296",
            "value": 10000
          }
        },
        "fa557d454dd447aeaf2abc7e7644b4d8": {
          "model_module": "@jupyter-widgets/base",
          "model_module_version": "1.2.0",
          "model_name": "LayoutModel",
          "state": {
            "_model_module": "@jupyter-widgets/base",
            "_model_module_version": "1.2.0",
            "_model_name": "LayoutModel",
            "_view_count": null,
            "_view_module": "@jupyter-widgets/base",
            "_view_module_version": "1.2.0",
            "_view_name": "LayoutView",
            "align_content": null,
            "align_items": null,
            "align_self": null,
            "border": null,
            "bottom": null,
            "display": null,
            "flex": null,
            "flex_flow": null,
            "grid_area": null,
            "grid_auto_columns": null,
            "grid_auto_flow": null,
            "grid_auto_rows": null,
            "grid_column": null,
            "grid_gap": null,
            "grid_row": null,
            "grid_template_areas": null,
            "grid_template_columns": null,
            "grid_template_rows": null,
            "height": null,
            "justify_content": null,
            "justify_items": null,
            "left": null,
            "margin": null,
            "max_height": null,
            "max_width": null,
            "min_height": null,
            "min_width": null,
            "object_fit": null,
            "object_position": null,
            "order": null,
            "overflow": null,
            "overflow_x": null,
            "overflow_y": null,
            "padding": null,
            "right": null,
            "top": null,
            "visibility": null,
            "width": null
          }
        },
        "fe6798eafb344e08a7ce1655e7050296": {
          "model_module": "@jupyter-widgets/controls",
          "model_module_version": "1.5.0",
          "model_name": "ProgressStyleModel",
          "state": {
            "_model_module": "@jupyter-widgets/controls",
            "_model_module_version": "1.5.0",
            "_model_name": "ProgressStyleModel",
            "_view_count": null,
            "_view_module": "@jupyter-widgets/base",
            "_view_module_version": "1.2.0",
            "_view_name": "StyleView",
            "bar_color": null,
            "description_width": ""
          }
        }
      }
    }
  },
  "nbformat": 4,
  "nbformat_minor": 0
}
